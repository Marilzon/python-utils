{
 "cells": [
  {
   "cell_type": "markdown",
   "id": "23c410ae",
   "metadata": {},
   "source": [
    "<h2>Coeficient Correlation</h2>\n",
    "<p>Function to meansure degress between two or more points if graph X, Y</p>"
   ]
  },
  {
   "cell_type": "code",
   "execution_count": 19,
   "id": "4d8643ef",
   "metadata": {},
   "outputs": [],
   "source": [
    "import numpy as np"
   ]
  },
  {
   "cell_type": "code",
   "execution_count": 22,
   "id": "54f84a1c",
   "metadata": {},
   "outputs": [],
   "source": [
    "def c_correlation(X = [], Y = []):\n",
    "    X2 = np.power(X, 2)\n",
    "    Y2 = np.power(Y, 2)\n",
    "    XY = np.multiply(X, Y)\n",
    "    EX = sum(X)\n",
    "    EY = sum(Y)\n",
    "    EX2 = sum(X2)\n",
    "    EY2 = sum(Y2)\n",
    "    EXY = sum(X * Y)\n",
    "    N = len(XY)\n",
    "\n",
    "    LINE_1 = N * EXY - (EX * EY) \n",
    "    LINE_2 = np.sqrt(N * EX2 - (np.power(EX, 2))) * np.sqrt((N * EY2) - np.power(EY, 2))\n",
    "   \n",
    "    RESPONSE = LINE_1 / LINE_2\n",
    "    print(f'{RESPONSE = }')\n",
    "    return RESPONSE\n"
   ]
  },
  {
   "cell_type": "code",
   "execution_count": 25,
   "id": "7d549e6b",
   "metadata": {},
   "outputs": [
    {
     "ename": "ValueError",
     "evalue": "operands could not be broadcast together with shapes (5,) (4,) ",
     "output_type": "error",
     "traceback": [
      "\u001b[0;31m---------------------------------------------------------------------------\u001b[0m",
      "\u001b[0;31mValueError\u001b[0m                                Traceback (most recent call last)",
      "\u001b[1;32m/media/marilzon/C6D0A1C2D0A1B957/code/python/python-utils/statistic/coeficient_correlation.ipynb Cell 4'\u001b[0m in \u001b[0;36m<cell line: 1>\u001b[0;34m()\u001b[0m\n\u001b[0;32m----> <a href='vscode-notebook-cell:/media/marilzon/C6D0A1C2D0A1B957/code/python/python-utils/statistic/coeficient_correlation.ipynb#ch0000003?line=0'>1</a>\u001b[0m c_correlation(([\u001b[39m1\u001b[39;49m, \u001b[39m2\u001b[39;49m, \u001b[39m4\u001b[39;49m, \u001b[39m-\u001b[39;49m\u001b[39m1\u001b[39;49m, \u001b[39m6\u001b[39;49m]), ([\u001b[39m1\u001b[39;49m, \u001b[39m-\u001b[39;49m\u001b[39m1\u001b[39;49m, \u001b[39m5\u001b[39;49m, \u001b[39m-\u001b[39;49m\u001b[39m5\u001b[39;49m]))\n",
      "\u001b[1;32m/media/marilzon/C6D0A1C2D0A1B957/code/python/python-utils/statistic/coeficient_correlation.ipynb Cell 3'\u001b[0m in \u001b[0;36mc_correlation\u001b[0;34m(X, Y)\u001b[0m\n\u001b[1;32m      <a href='vscode-notebook-cell:/media/marilzon/C6D0A1C2D0A1B957/code/python/python-utils/statistic/coeficient_correlation.ipynb#ch0000004?line=1'>2</a>\u001b[0m X2 \u001b[39m=\u001b[39m np\u001b[39m.\u001b[39mpower(X, \u001b[39m2\u001b[39m)\n\u001b[1;32m      <a href='vscode-notebook-cell:/media/marilzon/C6D0A1C2D0A1B957/code/python/python-utils/statistic/coeficient_correlation.ipynb#ch0000004?line=2'>3</a>\u001b[0m Y2 \u001b[39m=\u001b[39m np\u001b[39m.\u001b[39mpower(Y, \u001b[39m2\u001b[39m)\n\u001b[0;32m----> <a href='vscode-notebook-cell:/media/marilzon/C6D0A1C2D0A1B957/code/python/python-utils/statistic/coeficient_correlation.ipynb#ch0000004?line=3'>4</a>\u001b[0m XY \u001b[39m=\u001b[39m np\u001b[39m.\u001b[39;49mmultiply(X, Y)\n\u001b[1;32m      <a href='vscode-notebook-cell:/media/marilzon/C6D0A1C2D0A1B957/code/python/python-utils/statistic/coeficient_correlation.ipynb#ch0000004?line=4'>5</a>\u001b[0m EX \u001b[39m=\u001b[39m \u001b[39msum\u001b[39m(X)\n\u001b[1;32m      <a href='vscode-notebook-cell:/media/marilzon/C6D0A1C2D0A1B957/code/python/python-utils/statistic/coeficient_correlation.ipynb#ch0000004?line=5'>6</a>\u001b[0m EY \u001b[39m=\u001b[39m \u001b[39msum\u001b[39m(Y)\n",
      "\u001b[0;31mValueError\u001b[0m: operands could not be broadcast together with shapes (5,) (4,) "
     ]
    }
   ],
   "source": [
    "c_correlation([1, 2, 4, -1, 6], [1, -1, 5, -5])"
   ]
  }
 ],
 "metadata": {
  "interpreter": {
   "hash": "713364777292c403a37f6a9c21b46d3f93564bed4f2ee3bb7def1f0fe1c5c7e3"
  },
  "kernelspec": {
   "display_name": "Python 3.9.12 ('base')",
   "language": "python",
   "name": "python3"
  },
  "language_info": {
   "codemirror_mode": {
    "name": "ipython",
    "version": 3
   },
   "file_extension": ".py",
   "mimetype": "text/x-python",
   "name": "python",
   "nbconvert_exporter": "python",
   "pygments_lexer": "ipython3",
   "version": "3.9.12"
  }
 },
 "nbformat": 4,
 "nbformat_minor": 5
}
