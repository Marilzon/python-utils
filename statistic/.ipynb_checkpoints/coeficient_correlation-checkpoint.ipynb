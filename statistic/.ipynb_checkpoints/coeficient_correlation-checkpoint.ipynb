{
 "cells": [
  {
   "cell_type": "markdown",
   "id": "23c410ae",
   "metadata": {},
   "source": [
    "<h2>Coeficient Correlation</h2>\n",
    "<p>Is an meansure of degress between two or more variables</p>"
   ]
  },
  {
   "cell_type": "code",
   "execution_count": 46,
   "id": "4d8643ef",
   "metadata": {},
   "outputs": [],
   "source": [
    "import numpy as np"
   ]
  },
  {
   "cell_type": "code",
   "execution_count": 47,
   "id": "dc0323bc",
   "metadata": {
    "scrolled": true
   },
   "outputs": [
    {
     "name": "stdout",
     "output_type": "stream",
     "text": [
      "X = array([2, 3, 4, 5, 6])\n",
      "Y = array([ 1,  2,  3, -3,  4])\n",
      "X2 = array([ 4,  9, 16, 25, 36])\n",
      "Y2 = array([ 1,  4,  9,  9, 16])\n",
      "XY = array([  2,   6,  12, -15,  24])\n",
      "EX = 20\n",
      "EY = 7\n",
      "EXY = 29\n",
      "N = 5\n"
     ]
    }
   ],
   "source": [
    "# Variables \n",
    "\n",
    "X = np.array([2, 3, 4, 5, 6])\n",
    "Y = np.array([1, 2, 3, -3, 4])\n",
    "X2 = np.power(X, 2)\n",
    "Y2 = np.power(Y, 2)\n",
    "XY = np.multiply(X, Y)\n",
    "EX = sum(X)\n",
    "EY = sum(Y)\n",
    "EXY = sum(X * Y)\n",
    "N = len(XY)\n",
    "\n",
    "print(f'{X = }')\n",
    "print(f'{Y = }')\n",
    "print(f'{X2 = }')\n",
    "print(f'{Y2 = }')\n",
    "print(f'{XY = }')\n",
    "print(f'{EX = }')\n",
    "print(f'{EY = }')\n",
    "print(f'{EXY = }')\n",
    "print(f'{N = }')\n"
   ]
  },
  {
   "cell_type": "code",
   "execution_count": 51,
   "id": "7d549e6b",
   "metadata": {},
   "outputs": [
    {
     "name": "stdout",
     "output_type": "stream",
     "text": [
      "0.05852057359806528\n"
     ]
    }
   ],
   "source": [
    "# correlation algorithm\n",
    "\n",
    "LINE_1 = N * EXY - (EX * EY) \n",
    "LINE_2 = math.sqrt(N * sum(X2) - (np.power(EX, 2))) * math.sqrt((N * sum(Y2)) - np.power(EY, 2))\n",
    "RESPONSE = LINE_1 / LINE_2\n",
    "\n",
    "print(RESPONSE)"
   ]
  }
 ],
 "metadata": {
  "kernelspec": {
   "display_name": "Python 3 (ipykernel)",
   "language": "python",
   "name": "python3"
  },
  "language_info": {
   "codemirror_mode": {
    "name": "ipython",
    "version": 3
   },
   "file_extension": ".py",
   "mimetype": "text/x-python",
   "name": "python",
   "nbconvert_exporter": "python",
   "pygments_lexer": "ipython3",
   "version": "3.9.12"
  }
 },
 "nbformat": 4,
 "nbformat_minor": 5
}
