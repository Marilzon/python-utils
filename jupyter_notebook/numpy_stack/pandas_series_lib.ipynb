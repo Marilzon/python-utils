{
 "cells": [
  {
   "cell_type": "markdown",
   "id": "8daaff20",
   "metadata": {},
   "source": [
    "<h1>Series</h1>\n",
    "<p>Array unidimendinal que contem um array de dados e um um array de indices</p>\n",
    "<hr>"
   ]
  },
  {
   "cell_type": "code",
   "execution_count": 16,
   "id": "04312d9a",
   "metadata": {},
   "outputs": [],
   "source": [
    "import pandas as pd\n",
    "from pandas import Series"
   ]
  },
  {
   "cell_type": "code",
   "execution_count": 17,
   "id": "aa0fa944",
   "metadata": {},
   "outputs": [
    {
     "data": {
      "text/plain": [
       "'1.3.4'"
      ]
     },
     "execution_count": 17,
     "metadata": {},
     "output_type": "execute_result"
    }
   ],
   "source": [
    "pd.__version__"
   ]
  },
  {
   "cell_type": "code",
   "execution_count": 18,
   "id": "c7b4a0a3",
   "metadata": {},
   "outputs": [
    {
     "data": {
      "text/plain": [
       "0      13\n",
       "1       5\n",
       "2    1992\n",
       "3      29\n",
       "dtype: int64"
      ]
     },
     "execution_count": 18,
     "metadata": {},
     "output_type": "execute_result"
    }
   ],
   "source": [
    "# Criando uma Seria sem especificar os indices\n",
    "\n",
    "Object = Series([13, 5, 1992, 29])\n",
    "Object"
   ]
  },
  {
   "cell_type": "code",
   "execution_count": 19,
   "id": "c1024b50",
   "metadata": {},
   "outputs": [
    {
     "data": {
      "text/plain": [
       "array([  13,    5, 1992,   29], dtype=int64)"
      ]
     },
     "execution_count": 19,
     "metadata": {},
     "output_type": "execute_result"
    }
   ],
   "source": [
    "Object.values"
   ]
  },
  {
   "cell_type": "code",
   "execution_count": 20,
   "id": "bae54492",
   "metadata": {},
   "outputs": [
    {
     "data": {
      "text/plain": [
       "RangeIndex(start=0, stop=4, step=1)"
      ]
     },
     "execution_count": 20,
     "metadata": {},
     "output_type": "execute_result"
    }
   ],
   "source": [
    "Object.index"
   ]
  },
  {
   "cell_type": "code",
   "execution_count": 24,
   "id": "38980ddf",
   "metadata": {},
   "outputs": [
    {
     "data": {
      "text/plain": [
       "2    1992\n",
       "dtype: int64"
      ]
     },
     "execution_count": 24,
     "metadata": {},
     "output_type": "execute_result"
    }
   ],
   "source": [
    "# criando condicoes para retorno de dados\n",
    "# EXEMPLO EM SQL: SELECT * FROM Object WHERE VALUES > 50\n",
    "Object[Object > 50]"
   ]
  },
  {
   "cell_type": "code",
   "execution_count": 44,
   "id": "12221155",
   "metadata": {},
   "outputs": [],
   "source": [
    "# Criando um dictionary para manipular posteriornente\n",
    "dict = {'Football': 1000, 'Basket': 2000, 'Rockey': 3000, 'E-Sports': 4000, 'Racing': 5000}"
   ]
  },
  {
   "cell_type": "code",
   "execution_count": 45,
   "id": "8530b3bd",
   "metadata": {},
   "outputs": [],
   "source": [
    "# Criando uma Series a partir de um dictionary\n",
    "series_sports = Series(dict)"
   ]
  },
  {
   "cell_type": "code",
   "execution_count": 46,
   "id": "fce48958",
   "metadata": {},
   "outputs": [
    {
     "data": {
      "text/plain": [
       "Football    1000\n",
       "Basket      2000\n",
       "Rockey      3000\n",
       "E-Sports    4000\n",
       "Racing      5000\n",
       "dtype: int64"
      ]
     },
     "execution_count": 46,
     "metadata": {},
     "output_type": "execute_result"
    }
   ],
   "source": [
    "series_sports"
   ]
  },
  {
   "cell_type": "code",
   "execution_count": 47,
   "id": "71386e38",
   "metadata": {},
   "outputs": [
    {
     "data": {
      "text/plain": [
       "pandas.core.series.Series"
      ]
     },
     "execution_count": 47,
     "metadata": {},
     "output_type": "execute_result"
    }
   ],
   "source": [
    "type(series_sports)"
   ]
  }
 ],
 "metadata": {
  "kernelspec": {
   "display_name": "Python 3 (ipykernel)",
   "language": "python",
   "name": "python3"
  },
  "language_info": {
   "codemirror_mode": {
    "name": "ipython",
    "version": 3
   },
   "file_extension": ".py",
   "mimetype": "text/x-python",
   "name": "python",
   "nbconvert_exporter": "python",
   "pygments_lexer": "ipython3",
   "version": "3.9.7"
  }
 },
 "nbformat": 4,
 "nbformat_minor": 5
}
