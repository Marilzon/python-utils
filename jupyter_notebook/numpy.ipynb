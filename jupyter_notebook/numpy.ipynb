{
 "cells": [
  {
   "cell_type": "code",
   "execution_count": 1,
   "id": "7fb17fc5",
   "metadata": {},
   "outputs": [],
   "source": [
    "import numpy as np"
   ]
  },
  {
   "cell_type": "code",
   "execution_count": 2,
   "id": "38b13f81",
   "metadata": {},
   "outputs": [
    {
     "data": {
      "text/plain": [
       "'1.20.3'"
      ]
     },
     "execution_count": 2,
     "metadata": {},
     "output_type": "execute_result"
    }
   ],
   "source": [
    "np.__version__"
   ]
  },
  {
   "cell_type": "markdown",
   "id": "38e28346",
   "metadata": {},
   "source": [
    "<h1>Criando Arrays</h1>"
   ]
  },
  {
   "cell_type": "code",
   "execution_count": 24,
   "id": "b82af4ca",
   "metadata": {},
   "outputs": [],
   "source": [
    "vector = np.array([0, 1, 2, 3, 4, 5, 6, 7, 8, 9, 10])\n",
    "auto_vector = np.arange(0, 100, 5)\n",
    "zeros_vector = np.zeros(10)\n",
    "eye_array = np.eye(3)\n",
    "li_space_array = np.linspace(0, 10)"
   ]
  },
  {
   "cell_type": "code",
   "execution_count": 37,
   "id": "d3dd431a",
   "metadata": {},
   "outputs": [
    {
     "name": "stdout",
     "output_type": "stream",
     "text": [
      "VETOR\n",
      " [ 0  1  2  3  4  5  6  7  8  9 10] \n",
      "\n",
      "VETOR AUTOMATICO\n",
      " [ 0  5 10 15 20 25 30 35 40 45 50 55 60 65 70 75 80 85 90 95] \n",
      "\n",
      "ZEROS VETOR\n",
      " [0. 0. 0. 0. 0. 0. 0. 0. 0. 0.] \n",
      "\n",
      "EYE MATRIZ\n",
      " [[1. 0. 0.]\n",
      " [0. 1. 0.]\n",
      " [0. 0. 1.]] \n",
      "\n"
     ]
    }
   ],
   "source": [
    "print(\"VETOR\\n\", vector, \"\\n\")\n",
    "print(\"VETOR AUTOMATICO\\n\", auto_vector, \"\\n\")\n",
    "print(\"ZEROS VETOR\\n\", zeros_vector, \"\\n\")\n",
    "print(\"EYE MATRIZ\\n\", eye_array, \"\\n\")\n",
    "print(\"LIN MATRIZ\\n\", li_space_array, \"\\n\")\n"
   ]
  },
  {
   "cell_type": "code",
   "execution_count": null,
   "id": "63df9d98",
   "metadata": {},
   "outputs": [],
   "source": []
  }
 ],
 "metadata": {
  "kernelspec": {
   "display_name": "Python 3 (ipykernel)",
   "language": "python",
   "name": "python3"
  },
  "language_info": {
   "codemirror_mode": {
    "name": "ipython",
    "version": 3
   },
   "file_extension": ".py",
   "mimetype": "text/x-python",
   "name": "python",
   "nbconvert_exporter": "python",
   "pygments_lexer": "ipython3",
   "version": "3.9.7"
  }
 },
 "nbformat": 4,
 "nbformat_minor": 5
}
