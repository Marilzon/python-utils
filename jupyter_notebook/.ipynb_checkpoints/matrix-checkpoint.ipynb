{
 "cells": [
  {
   "cell_type": "code",
   "execution_count": 2,
   "id": "b3507595",
   "metadata": {},
   "outputs": [],
   "source": [
    "import numpy as np"
   ]
  },
  {
   "cell_type": "code",
   "execution_count": 3,
   "id": "f08c91e0",
   "metadata": {},
   "outputs": [
    {
     "data": {
      "text/plain": [
       "'1.20.3'"
      ]
     },
     "execution_count": 3,
     "metadata": {},
     "output_type": "execute_result"
    }
   ],
   "source": [
    "np.__version__"
   ]
  },
  {
   "cell_type": "markdown",
   "id": "5d33e88f",
   "metadata": {},
   "source": [
    "<h1>Criando Matrizes</h1>"
   ]
  },
  {
   "cell_type": "code",
   "execution_count": 42,
   "id": "076575be",
   "metadata": {},
   "outputs": [
    {
     "name": "stdout",
     "output_type": "stream",
     "text": [
      "[[1 2 3]\n",
      " [4 5 6]] \n",
      "\n",
      "[[1. 1. 1.]\n",
      " [1. 1. 1.]] \n",
      "\n",
      "[1. 2.] \n",
      "\n",
      "int32\n",
      "float64\n",
      "float64\n"
     ]
    }
   ],
   "source": [
    "# Inicializando como tipo array\n",
    "\n",
    "array = np.array([[1, 2, 3],[4, 5, 6]])\n",
    "ones_array = np.ones((2, 3))\n",
    "forced_type_array = np.array([1, 2], dtype=np.float64)"
   ]
  },
  {
   "cell_type": "code",
   "execution_count": 45,
   "id": "bcdf535e",
   "metadata": {},
   "outputs": [
    {
     "name": "stdout",
     "output_type": "stream",
     "text": [
      "ARRAY SIMPLES, ROW/COLUMN - (2, 3) \n",
      " [[1 2 3]\n",
      " [4 5 6]] \n",
      "\n",
      "ARRAY TIPO ONES, ROW/COLUMN - (2, 3) \n",
      " [[1. 1. 1.]\n",
      " [1. 1. 1.]] \n",
      "\n",
      "ARRAY SIMPLES FORTEMENTE TIPADO, ROW/COLUMN - (2,) \n",
      " [1. 2.] \n",
      "\n",
      "int32\n",
      "float64\n",
      "float64\n"
     ]
    }
   ],
   "source": [
    "print(\"ARRAY SIMPLES, ROW/COLUMN -\", \n",
    "      array.shape, \"\\n\", array, \"\\n\")\n",
    "\n",
    "print(\"ARRAY TIPO ONES, ROW/COLUMN -\", \n",
    "      ones_array.shape, \"\\n\", ones_array, \"\\n\")\n",
    "\n",
    "\n",
    "print(\"ARRAY SIMPLES FORTEMENTE TIPADO, ROW/COLUMN -\", \n",
    "      forced_type_array.shape, \"\\n\", forced_type_array, \"\\n\")\n",
    "\n",
    "# dtype - DATA TYPE\n",
    "print(array.dtype)\n",
    "print(ones_array.dtype)\n",
    "print(forced_type_array.dtype)"
   ]
  },
  {
   "cell_type": "code",
   "execution_count": 37,
   "id": "64f6679a",
   "metadata": {},
   "outputs": [
    {
     "name": "stdout",
     "output_type": "stream",
     "text": [
      "Tipo:  <class 'numpy.matrix'>\n",
      "Dimensao:  (2, 3)\n",
      "Tamanho:  6\n",
      "Tamanho na memoria:  24 bytes\n"
     ]
    }
   ],
   "source": [
    "# Convertendo array em matriz\n",
    "\n",
    "matrix = np.matrix(array)\n",
    "\n",
    "print(\"Tipo: \", type(matrix))\n",
    "print(\"Dimensao: \", np.shape(matrix))\n",
    "print(\"Tamanho: \", matrix.size)\n",
    "print(\"Tamanho na memoria: \", matrix.nbytes, \"bytes\")"
   ]
  },
  {
   "cell_type": "code",
   "execution_count": null,
   "id": "b462bb95",
   "metadata": {},
   "outputs": [],
   "source": []
  }
 ],
 "metadata": {
  "kernelspec": {
   "display_name": "Python 3 (ipykernel)",
   "language": "python",
   "name": "python3"
  },
  "language_info": {
   "codemirror_mode": {
    "name": "ipython",
    "version": 3
   },
   "file_extension": ".py",
   "mimetype": "text/x-python",
   "name": "python",
   "nbconvert_exporter": "python",
   "pygments_lexer": "ipython3",
   "version": "3.9.7"
  }
 },
 "nbformat": 4,
 "nbformat_minor": 5
}
