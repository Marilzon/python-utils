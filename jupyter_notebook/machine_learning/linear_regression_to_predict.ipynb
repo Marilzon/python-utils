{
 "cells": [
  {
   "cell_type": "code",
   "execution_count": 66,
   "id": "76334c80",
   "metadata": {},
   "outputs": [],
   "source": [
    "import matplotlib.pyplot as plt\n",
    "import numpy as np\n",
    "from sklearn.linear_model import LinearRegression\n",
    "%matplotlib inline\n"
   ]
  },
  {
   "cell_type": "markdown",
   "id": "20c6b367",
   "metadata": {},
   "source": [
    "<h3 style=\"text-align: center;\">Diametro e preço</h3>\n",
    "\n",
    "<table border=\"1\">\n",
    "<tr>\n",
    "    <th>ID</th>\n",
    "    <th>Diametro</th>\n",
    "    <th>Preço</th>\n",
    "</tr>\n",
    "<tr>\n",
    "    <td>1</td>\n",
    "    <td>7</td>\n",
    "    <td>8</td>\n",
    "</tr>\n",
    "<tr>\n",
    "    <td>2</td>\n",
    "    <td>10</td>\n",
    "    <td>11</td>\n",
    "</tr>\n",
    "<tr>\n",
    "    <td>3</td>\n",
    "    <td>15</td>\n",
    "    <td>16</td>\n",
    "</tr>\n",
    "<tr>\n",
    "    <td>4</td>\n",
    "    <td>30</td>\n",
    "    <td>38.5</td>\n",
    "</tr>\n",
    "<tr>\n",
    "    <td>5</td>\n",
    "    <td>45</td>\n",
    "    <td>52</td>\n",
    "</tr>\n",
    "</table>"
   ]
  },
  {
   "cell_type": "code",
   "execution_count": 67,
   "id": "6058c505",
   "metadata": {},
   "outputs": [],
   "source": [
    "scale = [[7], [10], [15], [30], [45]]\n",
    "price = [[8], [11], [16], [38.5], [52]]"
   ]
  },
  {
   "cell_type": "markdown",
   "id": "0937f266",
   "metadata": {},
   "source": [
    "<h3 style=\"text-align: center;\">Visualizando dados no plot</h3>"
   ]
  },
  {
   "cell_type": "code",
   "execution_count": 68,
   "id": "f856701b",
   "metadata": {},
   "outputs": [
    {
     "data": {
      "image/png": "[encoded data removed]",
      "text/plain": [
       "<Figure size 432x288 with 1 Axes>"
      ]
     },
     "metadata": {
      "needs_background": "light"
     },
     "output_type": "display_data"
    }
   ],
   "source": [
    "plt.figure()\n",
    "plt.xlabel(\"Diametro(cm)\")\n",
    "plt.ylabel(\"Preço R$\")\n",
    "plt.title(\"Diametro e Preço\")\n",
    "plt.plot(scale, price, \"k.\")\n",
    "plt.axis([0, 60, 0, 60])\n",
    "plt.grid(True)\n",
    "plt.show()"
   ]
  },
  {
   "cell_type": "markdown",
   "id": "734b8a91",
   "metadata": {},
   "source": [
    "<h3 style=\"text-align: center;\">Criando modelo para prever valores</h3>"
   ]
  },
  {
   "cell_type": "code",
   "execution_count": 69,
   "id": "9e4fd11e",
   "metadata": {},
   "outputs": [],
   "source": [
    "X = [[7], [10], [15], [30], [45]]\n",
    "Y = [[8], [11], [16], [38.5], [52]]\n",
    "\n",
    "model = LinearRegression()"
   ]
  },
  {
   "cell_type": "code",
   "execution_count": 70,
   "id": "6e4794f2",
   "metadata": {},
   "outputs": [
    {
     "data": {
      "text/plain": [
       "sklearn.linear_model._base.LinearRegression"
      ]
     },
     "execution_count": 70,
     "metadata": {},
     "output_type": "execute_result"
    }
   ],
   "source": [
    "type(model)"
   ]
  },
  {
   "cell_type": "code",
   "execution_count": 71,
   "id": "229fe9e4",
   "metadata": {},
   "outputs": [
    {
     "data": {
      "text/plain": [
       "LinearRegression()"
      ]
     },
     "execution_count": 71,
     "metadata": {},
     "output_type": "execute_result"
    }
   ],
   "source": [
    "model.fit(X, Y)"
   ]
  },
  {
   "cell_type": "code",
   "execution_count": 72,
   "id": "28144a62",
   "metadata": {},
   "outputs": [
    {
     "name": "stdout",
     "output_type": "stream",
     "text": [
      "O produto de 20cm devera custar: R$ 23.41\n"
     ]
    }
   ],
   "source": [
    "print(\"O produto de 20cm devera custar: R$ %.2f\" % model.predict([[[20][0]]]))"
   ]
  },
  {
   "cell_type": "code",
   "execution_count": 74,
   "id": "dd4d6e78",
   "metadata": {},
   "outputs": [
    {
     "data": {
      "image/png": "[encoded data removed]",
      "text/plain": [
       "<Figure size 432x288 with 1 Axes>"
      ]
     },
     "metadata": {},
     "output_type": "display_data"
    }
   ],
   "source": [
    "# Scatter Plot representando a regressao linear\n",
    "\n",
    "plt.scatter(X, Y, color = \"black\")\n",
    "plt.plot(X, model.predict(X), color = \"blue\", linewidth = 2)\n",
    "plt.xlabel(\"X\")\n",
    "plt.ylabel(\"Y\")\n",
    "plt.xticks(())\n",
    "plt.yticks(())\n",
    "plt.show()"
   ]
  }
 ],
 "metadata": {
  "kernelspec": {
   "display_name": "Python 3 (ipykernel)",
   "language": "python",
   "name": "python3"
  },
  "language_info": {
   "codemirror_mode": {
    "name": "ipython",
    "version": 3
   },
   "file_extension": ".py",
   "mimetype": "text/x-python",
   "name": "python",
   "nbconvert_exporter": "python",
   "pygments_lexer": "ipython3",
   "version": "3.9.7"
  }
 },
 "nbformat": 4,
 "nbformat_minor": 5
}
