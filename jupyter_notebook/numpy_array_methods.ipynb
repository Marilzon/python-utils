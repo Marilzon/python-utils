{
 "cells": [
  {
   "cell_type": "code",
   "execution_count": 47,
   "id": "bcb5dd47",
   "metadata": {},
   "outputs": [],
   "source": [
    "import numpy as np"
   ]
  },
  {
   "cell_type": "code",
   "execution_count": 48,
   "id": "81a486f1",
   "metadata": {},
   "outputs": [
    {
     "data": {
      "text/plain": [
       "array([[0, 0, 0],\n",
       "       [0, 1, 0],\n",
       "       [0, 0, 2]])"
      ]
     },
     "execution_count": 48,
     "metadata": {},
     "output_type": "execute_result"
    }
   ],
   "source": [
    "first_array = np.diag(np.arange(3))\n",
    "first_array"
   ]
  },
  {
   "cell_type": "code",
   "execution_count": 49,
   "id": "729f5c5f",
   "metadata": {},
   "outputs": [
    {
     "data": {
      "text/plain": [
       "array([0, 1, 2, 3, 4, 5, 6, 7, 8, 9])"
      ]
     },
     "execution_count": 49,
     "metadata": {},
     "output_type": "execute_result"
    }
   ],
   "source": [
    "second_array = np.arange(10)\n",
    "second_array"
   ]
  },
  {
   "cell_type": "code",
   "execution_count": 50,
   "id": "4758d702",
   "metadata": {},
   "outputs": [
    {
     "data": {
      "text/plain": [
       "array([2, 5, 8])"
      ]
     },
     "execution_count": 50,
     "metadata": {},
     "output_type": "execute_result"
    }
   ],
   "source": [
    "# retornando os valores dos indices fatiados\n",
    "second_array[2:9:3] "
   ]
  },
  {
   "cell_type": "code",
   "execution_count": 51,
   "id": "629bb0fc",
   "metadata": {},
   "outputs": [
    {
     "data": {
      "text/plain": [
       "False"
      ]
     },
     "execution_count": 51,
     "metadata": {},
     "output_type": "execute_result"
    }
   ],
   "source": [
    "# comparacao\n",
    "np.array_equal(first_array ,second_array)\n"
   ]
  },
  {
   "cell_type": "code",
   "execution_count": 52,
   "id": "895dd8eb",
   "metadata": {},
   "outputs": [
    {
     "name": "stdout",
     "output_type": "stream",
     "text": [
      "[1.2, 2.3, 3.0, 4.2, 5.0, 6.1, 7.5, 8.8]\n",
      "[1. 2. 3. 4. 5. 6. 8. 9.]\n"
     ]
    }
   ],
   "source": [
    "# Metodo around == arredondar .5 sempre joga para cima\n",
    "float_array = ([1.2, 2.3, 3.0, 4.2, 5., 6.1, 7.5, 8.8])\n",
    "print(float_array)\n",
    "\n",
    "around_array = np.around(float_array)\n",
    "print(around_array)"
   ]
  },
  {
   "cell_type": "code",
   "execution_count": 53,
   "id": "8d0ef4c6",
   "metadata": {},
   "outputs": [
    {
     "name": "stdout",
     "output_type": "stream",
     "text": [
      "[0 0 0 0 1 0 0 0 2]\n"
     ]
    }
   ],
   "source": [
    "# copiando elementos de array para vetor\n",
    "copy_array = first_array.flatten()\n",
    "\n",
    "print(copy_array)"
   ]
  },
  {
   "cell_type": "code",
   "execution_count": 55,
   "id": "b9c2733c",
   "metadata": {},
   "outputs": [
    {
     "data": {
      "text/plain": [
       "array([ 1,  2,  3, 10, 20, 30])"
      ]
     },
     "execution_count": 55,
     "metadata": {},
     "output_type": "execute_result"
    }
   ],
   "source": [
    "# concatenando arrays\n",
    "\n",
    "np.concatenate(([1, 2 , 3], [10, 20, 30]), axis = 0)"
   ]
  }
 ],
 "metadata": {
  "kernelspec": {
   "display_name": "Python 3 (ipykernel)",
   "language": "python",
   "name": "python3"
  },
  "language_info": {
   "codemirror_mode": {
    "name": "ipython",
    "version": 3
   },
   "file_extension": ".py",
   "mimetype": "text/x-python",
   "name": "python",
   "nbconvert_exporter": "python",
   "pygments_lexer": "ipython3",
   "version": "3.9.7"
  }
 },
 "nbformat": 4,
 "nbformat_minor": 5
}
