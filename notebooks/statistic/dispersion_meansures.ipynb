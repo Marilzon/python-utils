{
 "cells": [
  {
   "cell_type": "markdown",
   "id": "23c410ae",
   "metadata": {},
   "source": [
    "<h2>Dispersion Meansures</h2>\n",
    "<p>Functions to execute meansure of dispersion between many values</p>"
   ]
  },
  {
   "cell_type": "code",
   "execution_count": 24,
   "id": "4d8643ef",
   "metadata": {},
   "outputs": [
    {
     "data": {
      "text/plain": [
       "7.5"
      ]
     },
     "execution_count": 24,
     "metadata": {},
     "output_type": "execute_result"
    }
   ],
   "source": [
    "# AVERAGE\n",
    "\n",
    "def average(* values):\n",
    "    result = []\n",
    "    for value in values:\n",
    "        result.append(value)\n",
    "    return sum(result) / len(values)\n",
    "\n",
    "average(6,7,8,9)"
   ]
  },
  {
   "cell_type": "code",
   "execution_count": 25,
   "id": "7d549e6b",
   "metadata": {},
   "outputs": [
    {
     "data": {
      "text/plain": [
       "1.0"
      ]
     },
     "execution_count": 25,
     "metadata": {},
     "output_type": "execute_result"
    }
   ],
   "source": [
    "# DEFAULT DISPERSION\n",
    "\n",
    "def default_dispersion(*values):\n",
    "    average = []\n",
    "    average_dispersion = []\n",
    "    for value in values:\n",
    "        average.append(value)\n",
    "    average_result = sum(average) / len(values)\n",
    "    for value in values:\n",
    "        if value < average_result:\n",
    "            average_dispersion.append(average_result - value)\n",
    "        else:\n",
    "            average_dispersion.append(value - average_result)\n",
    "    return sum(average_dispersion) / len(values)\n",
    "\n",
    "default_dispersion(6,7,8,9)\n"
   ]
  }
 ],
 "metadata": {
  "interpreter": {
   "hash": "713364777292c403a37f6a9c21b46d3f93564bed4f2ee3bb7def1f0fe1c5c7e3"
  },
  "kernelspec": {
   "display_name": "Python 3.9.12 ('base')",
   "language": "python",
   "name": "python3"
  },
  "language_info": {
   "codemirror_mode": {
    "name": "ipython",
    "version": 3
   },
   "file_extension": ".py",
   "mimetype": "text/x-python",
   "name": "python",
   "nbconvert_exporter": "python",
   "pygments_lexer": "ipython3",
   "version": "3.9.12"
  }
 },
 "nbformat": 4,
 "nbformat_minor": 5
}
